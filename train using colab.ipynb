{
  "nbformat": 4,
  "nbformat_minor": 0,
  "metadata": {
    "colab": {
      "provenance": []
    },
    "kernelspec": {
      "name": "python3",
      "display_name": "Python 3"
    },
    "accelerator": "GPU"
  },
  "cells": [
    {
      "cell_type": "markdown",
      "metadata": {
        "id": "ZhWhuTnsMnKc"
      },
      "source": [
        "## getting the data and all the necessary text files and functions"
      ]
    },
    {
      "cell_type": "code",
      "metadata": {
        "id": "Ij6sTs9SMbye"
      },
      "source": [
        "import cv2\n",
        "import numpy as np\n",
        "import matplotlib.pyplot as plt\n",
        "%matplotlib inline\n",
        "import random"
      ],
      "execution_count": null,
      "outputs": []
    },
    {
      "cell_type": "code",
      "metadata": {
        "id": "88gkAyRTI03C",
        "colab": {
          "base_uri": "https://localhost:8080/",
          "height": 168
        },
        "outputId": "c04178b9-9128-41e4-a609-f8e5f0cda6e5"
      },
      "source": [
        "#create a folder to store data\n",
        "!mkdir sample_data/IAM\n",
        "# copy the zip files that has data to this folder now\n",
        "!cp -nav \"/content/drive/My Drive/Colab Notebooks/OCR on IAM/data/words zips\" /content/sample_data/IAM/"
      ],
      "execution_count": null,
      "outputs": [
        {
          "output_type": "stream",
          "text": [
            "'/content/drive/My Drive/Colab Notebooks/OCR on IAM/data/words zips' -> '/content/sample_data/IAM/words zips'\n",
            "'/content/drive/My Drive/Colab Notebooks/OCR on IAM/data/words zips/l-m.zip' -> '/content/sample_data/IAM/words zips/l-m.zip'\n",
            "'/content/drive/My Drive/Colab Notebooks/OCR on IAM/data/words zips/g-h.zip' -> '/content/sample_data/IAM/words zips/g-h.zip'\n",
            "'/content/drive/My Drive/Colab Notebooks/OCR on IAM/data/words zips/a.zip' -> '/content/sample_data/IAM/words zips/a.zip'\n",
            "'/content/drive/My Drive/Colab Notebooks/OCR on IAM/data/words zips/n-p-r.zip' -> '/content/sample_data/IAM/words zips/n-p-r.zip'\n",
            "'/content/drive/My Drive/Colab Notebooks/OCR on IAM/data/words zips/e-f.zip' -> '/content/sample_data/IAM/words zips/e-f.zip'\n",
            "'/content/drive/My Drive/Colab Notebooks/OCR on IAM/data/words zips/j-k.zip' -> '/content/sample_data/IAM/words zips/j-k.zip'\n",
            "'/content/drive/My Drive/Colab Notebooks/OCR on IAM/data/words zips/c-d.zip' -> '/content/sample_data/IAM/words zips/c-d.zip'\n",
            "'/content/drive/My Drive/Colab Notebooks/OCR on IAM/data/words zips/b.zip' -> '/content/sample_data/IAM/words zips/b.zip'\n"
          ],
          "name": "stdout"
        }
      ]
    },
    {
      "cell_type": "code",
      "metadata": {
        "id": "QAg7ktB-J2sp",
        "colab": {
          "base_uri": "https://localhost:8080/",
          "height": 50
        },
        "outputId": "284de7ad-0c8f-4403-956b-ccf6aa20ec8a"
      },
      "source": [
        "# now unzip all the zips\n",
        "!unzip -nq /content/sample_data/IAM/'words zips'/\\*.zip -d /content/sample_data/IAM/'words zips'/"
      ],
      "execution_count": null,
      "outputs": [
        {
          "output_type": "stream",
          "text": [
            "\n",
            "8 archives were successfully processed.\n"
          ],
          "name": "stdout"
        }
      ]
    },
    {
      "cell_type": "code",
      "metadata": {
        "id": "oYUWzvw9KUgs",
        "colab": {
          "base_uri": "https://localhost:8080/",
          "height": 34
        },
        "outputId": "2f279c09-f135-47d1-f860-49c7c8f576ba"
      },
      "source": [
        "# copy the ground truth texts file\n",
        "!cp -navr \"/content/drive/My Drive/Colab Notebooks/OCR on IAM/data/words.txt\" \"/content/sample_data/IAM/\""
      ],
      "execution_count": null,
      "outputs": [
        {
          "output_type": "stream",
          "text": [
            "'/content/drive/My Drive/Colab Notebooks/OCR on IAM/data/words.txt' -> '/content/sample_data/IAM/words.txt'\n"
          ],
          "name": "stdout"
        }
      ]
    },
    {
      "cell_type": "code",
      "metadata": {
        "id": "BA476SmCKFbG"
      },
      "source": [
        "data_location = '/content/sample_data/IAM/words zips'\n",
        "words_txt_location = '/content/sample_data/IAM/words.txt'"
      ],
      "execution_count": null,
      "outputs": []
    },
    {
      "cell_type": "code",
      "metadata": {
        "id": "zgyMtOTbMH3i",
        "colab": {
          "base_uri": "https://localhost:8080/",
          "height": 67
        },
        "outputId": "1e8a6aa4-0a20-4837-bae4-47755ea31adb"
      },
      "source": [
        "# copy the splits files\n",
        "!cp -navr \"/content/drive/My Drive/Colab Notebooks/OCR on IAM/train_files.txt\" \"/content/sample_data/IAM/\"\n",
        "!cp -navr \"/content/drive/My Drive/Colab Notebooks/OCR on IAM/valid_files.txt\" \"/content/sample_data/IAM/\"\n",
        "!cp -navr \"/content/drive/My Drive/Colab Notebooks/OCR on IAM/test_files.txt\" \"/content/sample_data/IAM/\""
      ],
      "execution_count": null,
      "outputs": [
        {
          "output_type": "stream",
          "text": [
            "'/content/drive/My Drive/Colab Notebooks/OCR on IAM/train_files.txt' -> '/content/sample_data/IAM/train_files.txt'\n",
            "'/content/drive/My Drive/Colab Notebooks/OCR on IAM/valid_files.txt' -> '/content/sample_data/IAM/valid_files.txt'\n",
            "'/content/drive/My Drive/Colab Notebooks/OCR on IAM/test_files.txt' -> '/content/sample_data/IAM/test_files.txt'\n"
          ],
          "name": "stdout"
        }
      ]
    },
    {
      "cell_type": "code",
      "metadata": {
        "id": "oVsd-V5Xhobn"
      },
      "source": [
        "def get_paths_and_gts(partition_split_file):\n",
        "    \"\"\"\n",
        "    read a string like(which can be found in each line of words.txt file):\n",
        "    'a01-000u-00-00 ok 154 408 768 27 51 AT A'\n",
        "    and extract 'a01-000u-00-00': location of the image with sub-folders, to read it from the directories\n",
        "                'ok'            : processing status. ok means good, presumably.\n",
        "                'A'             : ground truth text\n",
        "\n",
        "    Then, pre-process using function defined above\n",
        "    \"\"\"\n",
        "    # a list to store paths to images and ground truth texts\n",
        "    paths_and_gts = []\n",
        "    \n",
        "    # open the file\n",
        "    with open(partition_split_file) as f:\n",
        "        # go through each line\n",
        "        for line in f:\n",
        "            # if a line is empty or commented with #, ignore that line\n",
        "            if not line or line.startswith('#'):\n",
        "                continue\n",
        "            \n",
        "            # in the text file, each line is seperated with '\\n', so `strip` first\n",
        "            # then string like 'a01-000u-00-00 ok 154 408 768 27 51 AT A' has to split to a list by spaces\n",
        "            line_split = line.strip().split(' ')\n",
        "            \n",
        "            # the first item of the list contains path information, so split that by '-'\n",
        "            directory_split = line_split[0].split('-')\n",
        "            \n",
        "            # now use all the above and concatenate to a string to make a path to an image\n",
        "            image_location = f'{data_location}/{directory_split[0]}/{directory_split[0]}-{directory_split[1]}/{line_split[0]}.png'\n",
        "            \n",
        "            # in a string like 'a01-000u-00-00 ok 154 408 768 27 51 AT A', text from 9th split is the ground truth text.\n",
        "            gt_text = ' '.join(line_split[8:])\n",
        "            \n",
        "            # ignore a sample(image and ground truth text), if the ground truth has more than 16 letters\n",
        "            # if len(gt_text) > 16:\n",
        "                # continue\n",
        "            \n",
        "            # now, append the image location and ground truth text of that image as a list to \n",
        "            paths_and_gts.append([image_location, gt_text])\n",
        "    \n",
        "    return paths_and_gts"
      ],
      "execution_count": null,
      "outputs": []
    },
    {
      "cell_type": "markdown",
      "metadata": {
        "id": "awFnLaKjgng1"
      },
      "source": [
        "## pre-processing"
      ]
    },
    {
      "cell_type": "code",
      "metadata": {
        "id": "NtXXXRTagFnM"
      },
      "source": [
        "def add_padding(img, old_w, old_h, new_w, new_h):\n",
        "    h1, h2 = int((new_h - old_h) / 2), int((new_h - old_h) / 2) + old_h\n",
        "    w1, w2 = int((new_w - old_w) / 2), int((new_w - old_w) / 2) + old_w\n",
        "    img_pad = np.ones([new_h, new_w, 3]) * 255\n",
        "    img_pad[h1:h2, w1:w2, :] = img\n",
        "    return img_pad\n",
        "\n",
        "\n",
        "def fix_size(img, target_w, target_h):\n",
        "    h, w = img.shape[:2]\n",
        "    if w < target_w and h < target_h:\n",
        "        img = add_padding(img, w, h, target_w, target_h)\n",
        "    elif w >= target_w and h < target_h:\n",
        "        new_w = target_w\n",
        "        new_h = int(h * new_w / w)\n",
        "        new_img = cv2.resize(img, (new_w, new_h), interpolation=cv2.INTER_AREA)\n",
        "        img = add_padding(new_img, new_w, new_h, target_w, target_h)\n",
        "    elif w < target_w and h >= target_h:\n",
        "        new_h = target_h\n",
        "        new_w = int(w * new_h / h)\n",
        "        new_img = cv2.resize(img, (new_w, new_h), interpolation=cv2.INTER_AREA)\n",
        "        img = add_padding(new_img, new_w, new_h, target_w, target_h)\n",
        "    else:\n",
        "        \"\"\"w>=target_w and h>=target_h \"\"\"\n",
        "        ratio = max(w / target_w, h / target_h)\n",
        "        new_w = max(min(target_w, int(w / ratio)), 1)\n",
        "        new_h = max(min(target_h, int(h / ratio)), 1)\n",
        "        new_img = cv2.resize(img, (new_w, new_h), interpolation=cv2.INTER_AREA)\n",
        "        img = add_padding(new_img, new_w, new_h, target_w, target_h)\n",
        "    return img\n",
        "\n",
        "\n",
        "def preprocess(path, img_w, img_h):\n",
        "    \"\"\" Pre-processing image for predicting \"\"\"\n",
        "    img = cv2.imread(path)\n",
        "    img = fix_size(img, img_w, img_h)\n",
        "\n",
        "    img = np.clip(img, 0, 255)\n",
        "    img = np.uint8(img)\n",
        "    img = cv2.cvtColor(img, cv2.COLOR_BGR2GRAY)\n",
        "\n",
        "    img = img.astype(np.float32)\n",
        "    img /= 255\n",
        "    return img"
      ],
      "execution_count": null,
      "outputs": []
    },
    {
      "cell_type": "code",
      "metadata": {
        "id": "vhoPnveagHTY",
        "colab": {
          "base_uri": "https://localhost:8080/",
          "height": 34
        },
        "outputId": "95a6866a-b9be-4882-a854-323253fedcc6"
      },
      "source": [
        "letters = [' ', '!', '\"', '#', '&', \"'\", '(', ')', '*', '+', ',', '-', '.', '/',\n",
        "           '0', '1', '2', '3', '4', '5', '6', '7', '8', '9', ':', ';', '?',\n",
        "           'A', 'B', 'C', 'D', 'E', 'F', 'G', 'H', 'I', 'J', 'K', 'L', 'M',\n",
        "           'N', 'O', 'P', 'Q', 'R', 'S', 'T', 'U', 'V', 'W', 'X', 'Y', 'Z',\n",
        "           'a', 'b', 'c', 'd', 'e', 'f', 'g', 'h', 'i', 'j', 'k', 'l', 'm',\n",
        "           'n', 'o', 'p', 'q', 'r', 's', 't', 'u', 'v', 'w', 'x', 'y', 'z']\n",
        "\n",
        "num_classes = len(letters) + 1\n",
        "print(num_classes)"
      ],
      "execution_count": null,
      "outputs": [
        {
          "output_type": "stream",
          "text": [
            "80\n"
          ],
          "name": "stdout"
        }
      ]
    },
    {
      "cell_type": "markdown",
      "metadata": {
        "id": "rQsqbn2FM3V2"
      },
      "source": [
        "## generating all the pre-processed vectors"
      ]
    },
    {
      "cell_type": "code",
      "metadata": {
        "id": "ZNBgqbnrhvt-"
      },
      "source": [
        "def text_to_labels(text):\n",
        "    return list(map(lambda x: letters.index(x), text))\n",
        "\n",
        "def labels_to_text(labels):\n",
        "    return ''.join(list(map(lambda x: letters[int(x)], labels)))"
      ],
      "execution_count": null,
      "outputs": []
    },
    {
      "cell_type": "code",
      "metadata": {
        "id": "JKFzcbVQh3hV",
        "colab": {
          "base_uri": "https://localhost:8080/",
          "height": 34
        },
        "outputId": "ccf86710-3553-4473-d718-688f22a3a447"
      },
      "source": [
        "train_files = get_paths_and_gts('/content/sample_data/IAM/train_files.txt')\n",
        "valid_files = get_paths_and_gts('/content/sample_data/IAM/valid_files.txt')\n",
        "test_files = get_paths_and_gts('/content/sample_data/IAM/test_files.txt')\n",
        "len(train_files), len(valid_files), len(test_files)"
      ],
      "execution_count": null,
      "outputs": [
        {
          "output_type": "execute_result",
          "data": {
            "text/plain": [
              "(87292, 4316, 4316)"
            ]
          },
          "metadata": {
            "tags": []
          },
          "execution_count": 9
        }
      ]
    },
    {
      "cell_type": "code",
      "metadata": {
        "id": "Y-x3BG4yp7V0",
        "colab": {
          "base_uri": "https://localhost:8080/",
          "height": 34
        },
        "outputId": "664f288d-60ab-42f4-915f-341876d8764a"
      },
      "source": [
        "# since this image is not readable is not readable, it has to be discarded.\n",
        "# ../words/r06/r06-022/r06-022-03-05.png'\n",
        "\n",
        "for index, (img_loc, gt_text) in enumerate(train_files):\n",
        "    if 'r06-022-03-05' in img_loc:\n",
        "        print(index)\n",
        "    else:\n",
        "        continue"
      ],
      "execution_count": null,
      "outputs": [
        {
          "output_type": "stream",
          "text": [
            "4576\n"
          ],
          "name": "stdout"
        }
      ]
    },
    {
      "cell_type": "code",
      "metadata": {
        "id": "piAUpeaVoTn6",
        "colab": {
          "base_uri": "https://localhost:8080/",
          "height": 34
        },
        "outputId": "e269a09e-768e-4bd5-c6e2-e2fdd16d1810"
      },
      "source": [
        "train_files[4576]"
      ],
      "execution_count": null,
      "outputs": [
        {
          "output_type": "execute_result",
          "data": {
            "text/plain": [
              "['/content/sample_data/IAM/words zips/r06/r06-022/r06-022-03-05.png', 'more']"
            ]
          },
          "metadata": {
            "tags": []
          },
          "execution_count": 13
        }
      ]
    },
    {
      "cell_type": "code",
      "metadata": {
        "id": "_4qp1y6gojTh",
        "colab": {
          "base_uri": "https://localhost:8080/",
          "height": 34
        },
        "outputId": "feb41dad-28cb-44e5-8de2-75e1ea90079a"
      },
      "source": [
        "del train_files[4576]\n",
        "print(train_files[4576])"
      ],
      "execution_count": null,
      "outputs": [
        {
          "output_type": "stream",
          "text": [
            "['/content/sample_data/IAM/words zips/g06/g06-042e/g06-042e-05-03.png', 'notice']\n"
          ],
          "name": "stdout"
        }
      ]
    },
    {
      "cell_type": "markdown",
      "metadata": {
        "id": "q6f66gZXby6A"
      },
      "source": [
        "this is how images used for training will look like."
      ]
    },
    {
      "cell_type": "code",
      "metadata": {
        "id": "uDFwXJNVhtgm"
      },
      "source": [
        "i = 21\n",
        "print(train_files[i][1])\n",
        "an_img = preprocess(path=train_files[i][0], img_w=128, img_h=64)\n",
        "plt.imshow(an_img.T)"
      ],
      "execution_count": null,
      "outputs": []
    },
    {
      "cell_type": "code",
      "metadata": {
        "id": "1sVUCBXqceh2"
      },
      "source": [
        "class TextImageGenerator:\n",
        "    \n",
        "    def __init__(self, data,\n",
        "                 img_w,\n",
        "                 img_h, \n",
        "                 batch_size, \n",
        "                 i_len,\n",
        "                 max_text_len):\n",
        "        \n",
        "        self.img_h = img_h\n",
        "        self.img_w = img_w\n",
        "        self.batch_size = batch_size\n",
        "        self.max_text_len = max_text_len\n",
        "        self.samples = data\n",
        "        self.n = len(self.samples)\n",
        "        self.i_len = i_len\n",
        "        self.indexes = list(range(self.n))\n",
        "        self.cur_index = 0\n",
        "        \n",
        "    def build_data(self):\n",
        "        self.imgs = np.zeros((self.n, self.img_h, self.img_w))\n",
        "        self.texts = []\n",
        "        for i, (img_filepath, text) in enumerate(self.samples):\n",
        "            img = preprocess(img_filepath, self.img_w, self.img_h)\n",
        "            self.imgs[i, :, :] = img\n",
        "            self.texts.append(text)\n",
        "    \n",
        "    def next_sample(self):\n",
        "        self.cur_index += 1\n",
        "        if self.cur_index >= self.n:\n",
        "            self.cur_index = 0\n",
        "            random.shuffle(self.indexes)\n",
        "        return self.imgs[self.indexes[self.cur_index]], self.texts[self.indexes[self.cur_index]]\n",
        "    \n",
        "    def next_batch(self):\n",
        "        while True:\n",
        "            # width and height are backwards from typical Keras convention\n",
        "            # because width is the time dimension when it gets fed into the RNN\n",
        "            X_data = np.ones([self.batch_size, self.img_w, self.img_h, 1])\n",
        "            Y_data = np.zeros([self.batch_size, self.max_text_len])\n",
        "            input_length = np.ones((self.batch_size, 1)) * self.i_len\n",
        "            label_length = np.zeros((self.batch_size, 1))\n",
        "                                   \n",
        "            for i in range(self.batch_size):\n",
        "                img, text = self.next_sample()\n",
        "                img = img.T\n",
        "                img = np.expand_dims(img, -1)\n",
        "                X_data[i] = img\n",
        "                Y_data[i, :len(text)] = text_to_labels(text)\n",
        "                label_length[i] = len(text)\n",
        "                \n",
        "            inputs = [X_data, Y_data, input_length, label_length]\n",
        "            outputs = np.zeros([self.batch_size])\n",
        "            yield (inputs, outputs)"
      ],
      "execution_count": null,
      "outputs": []
    },
    {
      "cell_type": "code",
      "metadata": {
        "id": "AiY8tC1gcqU9"
      },
      "source": [
        "batch_size = 64\n",
        "input_length = 30\n",
        "max_text_len = 16\n",
        "img_w = 128\n",
        "img_h = 64"
      ],
      "execution_count": null,
      "outputs": []
    },
    {
      "cell_type": "code",
      "metadata": {
        "id": "191h4j01ciIM"
      },
      "source": [
        "train_data = TextImageGenerator(train_files, img_w, img_h, batch_size, input_length, max_text_len)\n",
        "train_data.build_data()"
      ],
      "execution_count": null,
      "outputs": []
    },
    {
      "cell_type": "code",
      "metadata": {
        "id": "48MDmv6VfEmJ",
        "colab": {
          "base_uri": "https://localhost:8080/",
          "height": 34
        },
        "outputId": "517000cb-e65d-4ebd-a5a4-0d5be4ad858e"
      },
      "source": [
        "train_data.imgs.shape"
      ],
      "execution_count": null,
      "outputs": [
        {
          "output_type": "execute_result",
          "data": {
            "text/plain": [
              "(87291, 64, 128)"
            ]
          },
          "metadata": {
            "tags": []
          },
          "execution_count": 19
        }
      ]
    },
    {
      "cell_type": "code",
      "metadata": {
        "id": "M9IuosR1IT8B"
      },
      "source": [
        "validation_data = TextImageGenerator(valid_files, img_w, img_h, batch_size, input_length, max_text_len)\n",
        "validation_data.build_data()"
      ],
      "execution_count": null,
      "outputs": []
    },
    {
      "cell_type": "markdown",
      "metadata": {
        "id": "9sRlzy4COkvW"
      },
      "source": [
        "# making model"
      ]
    },
    {
      "cell_type": "code",
      "metadata": {
        "id": "74GR3lUAS2zf",
        "colab": {
          "base_uri": "https://localhost:8080/",
          "height": 35
        },
        "outputId": "0c5c083f-0743-43f3-f5fe-67cf21148a66"
      },
      "source": [
        "from tensorflow.keras import layers\n",
        "from tensorflow.keras import Model\n",
        "from tensorflow.keras import backend as tf_keras_backend\n",
        "\n",
        "tf_keras_backend.set_image_data_format('channels_last')\n",
        "tf_keras_backend.image_data_format()"
      ],
      "execution_count": null,
      "outputs": [
        {
          "output_type": "execute_result",
          "data": {
            "application/vnd.google.colaboratory.intrinsic+json": {
              "type": "string"
            },
            "text/plain": [
              "'channels_last'"
            ]
          },
          "metadata": {
            "tags": []
          },
          "execution_count": 10
        }
      ]
    },
    {
      "cell_type": "code",
      "metadata": {
        "id": "gtu1k2kcyuog",
        "colab": {
          "base_uri": "https://localhost:8080/",
          "height": 1000
        },
        "outputId": "a4ead206-b2e1-4def-e17a-98b61d2d72c7"
      },
      "source": [
        "input_data = layers.Input(name='the_input', shape=(128,64,1), dtype='float32')  # (None, 128, 64, 1)\n",
        "\n",
        "# Convolution layer (VGG)\n",
        "iam_layers = layers.Conv2D(64, (3, 3), padding='same', name='conv1', kernel_initializer='he_normal')(input_data)\n",
        "iam_layers = layers.BatchNormalization()(iam_layers)\n",
        "iam_layers = layers.Activation('relu')(iam_layers)\n",
        "iam_layers = layers.MaxPooling2D(pool_size=(2, 2), name='max1')(iam_layers)  # (None,64, 32, 64)\n",
        "\n",
        "iam_layers = layers.Conv2D(128, (3, 3), padding='same', name='conv2', kernel_initializer='he_normal')(iam_layers)\n",
        "iam_layers = layers.BatchNormalization()(iam_layers)\n",
        "iam_layers = layers.Activation('relu')(iam_layers)\n",
        "iam_layers = layers.MaxPooling2D(pool_size=(2, 2), name='max2')(iam_layers)\n",
        "\n",
        "iam_layers = layers.Conv2D(256, (3, 3), padding='same', name='conv3', kernel_initializer='he_normal')(iam_layers)\n",
        "iam_layers = layers.BatchNormalization()(iam_layers)\n",
        "iam_layers = layers.Activation('relu')(iam_layers)\n",
        "iam_layers = layers.Conv2D(256, (3, 3), padding='same', name='conv4', kernel_initializer='he_normal')(iam_layers)\n",
        "iam_layers = layers.BatchNormalization()(iam_layers)\n",
        "iam_layers = layers.Activation('relu')(iam_layers)\n",
        "iam_layers = layers.MaxPooling2D(pool_size=(1, 2), name='max3')(iam_layers)  # (None, 32, 8, 256)\n",
        "\n",
        "iam_layers = layers.Conv2D(512, (3, 3), padding='same', name='conv5', kernel_initializer='he_normal')(iam_layers)\n",
        "iam_layers = layers.BatchNormalization()(iam_layers)\n",
        "iam_layers = layers.Activation('relu')(iam_layers)\n",
        "iam_layers = layers.Conv2D(512, (3, 3), padding='same', name='conv6')(iam_layers)\n",
        "iam_layers = layers.BatchNormalization()(iam_layers)\n",
        "iam_layers = layers.Activation('relu')(iam_layers)\n",
        "iam_layers = layers.MaxPooling2D(pool_size=(1, 2), name='max4')(iam_layers)\n",
        "\n",
        "iam_layers = layers.Conv2D(512, (2, 2), padding='same', kernel_initializer='he_normal', name='con7')(iam_layers)\n",
        "iam_layers = layers.BatchNormalization()(iam_layers)\n",
        "iam_layers = layers.Activation('relu')(iam_layers)\n",
        "\n",
        "# CNN to RNN\n",
        "iam_layers = layers.Reshape(target_shape=((32, 2048)), name='reshape')(iam_layers)\n",
        "iam_layers = layers.Dense(64, activation='relu', kernel_initializer='he_normal', name='dense1')(iam_layers)\n",
        "\n",
        "# RNN layer\n",
        "# layer ten\n",
        "iam_layers = layers.Bidirectional(layers.LSTM(units=256, return_sequences=True))(iam_layers)\n",
        "# layer nine\n",
        "iam_layers = layers.Bidirectional(layers.LSTM(units=256, return_sequences=True))(iam_layers)\n",
        "iam_layers = layers.BatchNormalization()(iam_layers)\n",
        "\n",
        "# transforms RNN output to character activations:\n",
        "iam_layers = layers.Dense(80, kernel_initializer='he_normal', name='dense2')(iam_layers)\n",
        "iam_outputs = layers.Activation('softmax', name='softmax')(iam_layers)\n",
        "\n",
        "labels = layers.Input(name='the_labels', shape=[16], dtype='float32')\n",
        "input_length = layers.Input(name='input_length', shape=[1], dtype='int64')\n",
        "label_length = layers.Input(name='label_length', shape=[1], dtype='int64')\n",
        "\n",
        "\n",
        "def ctc_lambda_func(args):\n",
        "    y_pred, labels, input_length, label_length = args\n",
        "    # the 2 is critical here since the first couple outputs of the RNN\n",
        "    # tend to be garbage:\n",
        "    y_pred = y_pred[:, 2:, :]\n",
        "    return tf_keras_backend.ctc_batch_cost(labels, y_pred, input_length, label_length)\n",
        "\n",
        "\n",
        "# loss function\n",
        "loss_out = layers.Lambda(ctc_lambda_func, output_shape=(1,), name='ctc')([iam_outputs, labels, input_length, label_length])\n",
        "\n",
        "model = Model(inputs=[input_data, labels, input_length, label_length], outputs=loss_out)\n",
        "model.summary()"
      ],
      "execution_count": null,
      "outputs": [
        {
          "output_type": "stream",
          "text": [
            "Model: \"model\"\n",
            "__________________________________________________________________________________________________\n",
            "Layer (type)                    Output Shape         Param #     Connected to                     \n",
            "==================================================================================================\n",
            "the_input (InputLayer)          [(None, 128, 64, 1)] 0                                            \n",
            "__________________________________________________________________________________________________\n",
            "conv1 (Conv2D)                  (None, 128, 64, 64)  640         the_input[0][0]                  \n",
            "__________________________________________________________________________________________________\n",
            "batch_normalization (BatchNorma (None, 128, 64, 64)  256         conv1[0][0]                      \n",
            "__________________________________________________________________________________________________\n",
            "activation (Activation)         (None, 128, 64, 64)  0           batch_normalization[0][0]        \n",
            "__________________________________________________________________________________________________\n",
            "max1 (MaxPooling2D)             (None, 64, 32, 64)   0           activation[0][0]                 \n",
            "__________________________________________________________________________________________________\n",
            "conv2 (Conv2D)                  (None, 64, 32, 128)  73856       max1[0][0]                       \n",
            "__________________________________________________________________________________________________\n",
            "batch_normalization_1 (BatchNor (None, 64, 32, 128)  512         conv2[0][0]                      \n",
            "__________________________________________________________________________________________________\n",
            "activation_1 (Activation)       (None, 64, 32, 128)  0           batch_normalization_1[0][0]      \n",
            "__________________________________________________________________________________________________\n",
            "max2 (MaxPooling2D)             (None, 32, 16, 128)  0           activation_1[0][0]               \n",
            "__________________________________________________________________________________________________\n",
            "conv3 (Conv2D)                  (None, 32, 16, 256)  295168      max2[0][0]                       \n",
            "__________________________________________________________________________________________________\n",
            "batch_normalization_2 (BatchNor (None, 32, 16, 256)  1024        conv3[0][0]                      \n",
            "__________________________________________________________________________________________________\n",
            "activation_2 (Activation)       (None, 32, 16, 256)  0           batch_normalization_2[0][0]      \n",
            "__________________________________________________________________________________________________\n",
            "conv4 (Conv2D)                  (None, 32, 16, 256)  590080      activation_2[0][0]               \n",
            "__________________________________________________________________________________________________\n",
            "batch_normalization_3 (BatchNor (None, 32, 16, 256)  1024        conv4[0][0]                      \n",
            "__________________________________________________________________________________________________\n",
            "activation_3 (Activation)       (None, 32, 16, 256)  0           batch_normalization_3[0][0]      \n",
            "__________________________________________________________________________________________________\n",
            "max3 (MaxPooling2D)             (None, 32, 8, 256)   0           activation_3[0][0]               \n",
            "__________________________________________________________________________________________________\n",
            "conv5 (Conv2D)                  (None, 32, 8, 512)   1180160     max3[0][0]                       \n",
            "__________________________________________________________________________________________________\n",
            "batch_normalization_4 (BatchNor (None, 32, 8, 512)   2048        conv5[0][0]                      \n",
            "__________________________________________________________________________________________________\n",
            "activation_4 (Activation)       (None, 32, 8, 512)   0           batch_normalization_4[0][0]      \n",
            "__________________________________________________________________________________________________\n",
            "conv6 (Conv2D)                  (None, 32, 8, 512)   2359808     activation_4[0][0]               \n",
            "__________________________________________________________________________________________________\n",
            "batch_normalization_5 (BatchNor (None, 32, 8, 512)   2048        conv6[0][0]                      \n",
            "__________________________________________________________________________________________________\n",
            "activation_5 (Activation)       (None, 32, 8, 512)   0           batch_normalization_5[0][0]      \n",
            "__________________________________________________________________________________________________\n",
            "max4 (MaxPooling2D)             (None, 32, 4, 512)   0           activation_5[0][0]               \n",
            "__________________________________________________________________________________________________\n",
            "con7 (Conv2D)                   (None, 32, 4, 512)   1049088     max4[0][0]                       \n",
            "__________________________________________________________________________________________________\n",
            "batch_normalization_6 (BatchNor (None, 32, 4, 512)   2048        con7[0][0]                       \n",
            "__________________________________________________________________________________________________\n",
            "activation_6 (Activation)       (None, 32, 4, 512)   0           batch_normalization_6[0][0]      \n",
            "__________________________________________________________________________________________________\n",
            "reshape (Reshape)               (None, 32, 2048)     0           activation_6[0][0]               \n",
            "__________________________________________________________________________________________________\n",
            "dense1 (Dense)                  (None, 32, 64)       131136      reshape[0][0]                    \n",
            "__________________________________________________________________________________________________\n",
            "bidirectional (Bidirectional)   (None, 32, 512)      657408      dense1[0][0]                     \n",
            "__________________________________________________________________________________________________\n",
            "bidirectional_1 (Bidirectional) (None, 32, 512)      1574912     bidirectional[0][0]              \n",
            "__________________________________________________________________________________________________\n",
            "batch_normalization_7 (BatchNor (None, 32, 512)      2048        bidirectional_1[0][0]            \n",
            "__________________________________________________________________________________________________\n",
            "dense2 (Dense)                  (None, 32, 80)       41040       batch_normalization_7[0][0]      \n",
            "__________________________________________________________________________________________________\n",
            "softmax (Activation)            (None, 32, 80)       0           dense2[0][0]                     \n",
            "__________________________________________________________________________________________________\n",
            "the_labels (InputLayer)         [(None, 16)]         0                                            \n",
            "__________________________________________________________________________________________________\n",
            "input_length (InputLayer)       [(None, 1)]          0                                            \n",
            "__________________________________________________________________________________________________\n",
            "label_length (InputLayer)       [(None, 1)]          0                                            \n",
            "__________________________________________________________________________________________________\n",
            "ctc (Lambda)                    (None, 1)            0           softmax[0][0]                    \n",
            "                                                                 the_labels[0][0]                 \n",
            "                                                                 input_length[0][0]               \n",
            "                                                                 label_length[0][0]               \n",
            "==================================================================================================\n",
            "Total params: 7,964,304\n",
            "Trainable params: 7,958,800\n",
            "Non-trainable params: 5,504\n",
            "__________________________________________________________________________________________________\n"
          ],
          "name": "stdout"
        }
      ]
    },
    {
      "cell_type": "code",
      "metadata": {
        "id": "iVhJC5rqTgGg"
      },
      "source": [
        "model.compile(loss={'ctc': lambda y_true, y_pred: y_pred}, optimizer = 'adam')\n",
        "# you will know, why there aren't any metrics"
      ],
      "execution_count": null,
      "outputs": []
    },
    {
      "cell_type": "code",
      "metadata": {
        "id": "4P5u37CzUfF7"
      },
      "source": [
        "import time\n",
        "from tensorflow.keras.callbacks import Callback\n",
        "\n",
        "class EpochTimeHistory(Callback):\n",
        "    \"\"\"\n",
        "    a custom callback to print the time(in minutes, to console) each epoch took during.\n",
        "    \"\"\"\n",
        "    def on_train_begin(self, logs={}):\n",
        "        self.train_epoch_times = []\n",
        "        self.valid_epoch_times = []\n",
        "\n",
        "    def on_epoch_begin(self, epoch, logs={}):\n",
        "        self.epoch_time_start = time.time()\n",
        "\n",
        "    def on_epoch_end(self, epoch, logs={}):\n",
        "        cur_epoch_time = round((time.time() - self.epoch_time_start)/60, 4)\n",
        "        self.train_epoch_times.append(cur_epoch_time)\n",
        "        print(\" ;epoch {0} took {1} minutes.\".format(epoch+1, cur_epoch_time))\n",
        "\n",
        "\n",
        "    def on_test_begin(self, logs={}):\n",
        "        self.test_time_start = time.time()\n",
        "\n",
        "    def on_test_end(self, logs={}):\n",
        "        cur_test_time = round((time.time() - self.test_time_start)/60, 4)\n",
        "        self.valid_epoch_times.append(cur_test_time)\n",
        "        print(\" ;validation took {} minutes.\".format(cur_test_time))"
      ],
      "execution_count": null,
      "outputs": []
    },
    {
      "cell_type": "code",
      "metadata": {
        "id": "nT6aB8EnUffU"
      },
      "source": [
        "from tensorflow.keras.callbacks import ModelCheckpoint, EarlyStopping\n",
        "\n",
        "model_save_cb = ModelCheckpoint(filepath='/content/drive/My Drive/Colab Notebooks/OCR on IAM/data/two-weights-epoch{epoch:02d}-val_loss{val_loss:.3f}.h5',\n",
        "                                verbose=1, save_best_only=False, monitor='val_loss', save_weights_only=False)\n",
        "earlystop = EarlyStopping(monitor='val_loss', min_delta=0, patience=4, verbose=0, mode='min')\n",
        "# reduce_learning_rate_cb = ReduceLROnPlateau(monitor='loss', factor=0.1, patience=2, cooldown=2, min_lr=0.00001, verbose=1)\n",
        "epoch_times = EpochTimeHistory()"
      ],
      "execution_count": null,
      "outputs": []
    },
    {
      "cell_type": "code",
      "metadata": {
        "id": "2gZCj-MrehK1",
        "colab": {
          "base_uri": "https://localhost:8080/",
          "height": 34
        },
        "outputId": "20b83af5-faf7-4c86-d79c-f337fef0985c"
      },
      "source": [
        "batch_size, train_data.n, validation_data.n"
      ],
      "execution_count": null,
      "outputs": [
        {
          "output_type": "execute_result",
          "data": {
            "text/plain": [
              "(64, 87291, 4316)"
            ]
          },
          "metadata": {
            "tags": []
          },
          "execution_count": 26
        }
      ]
    },
    {
      "cell_type": "code",
      "metadata": {
        "id": "E4b4BM1_T7-O",
        "colab": {
          "base_uri": "https://localhost:8080/",
          "height": 1000
        },
        "outputId": "d69b5e6a-1932-49e7-d12f-eec999aeeb81"
      },
      "source": [
        "history_model_3 = model.fit(train_data.next_batch(),\n",
        "                            validation_data=validation_data.next_batch(),\n",
        "                            steps_per_epoch=train_data.n/batch_size,\n",
        "                            validation_steps=validation_data.n // batch_size,\n",
        "                            epochs=30,\n",
        "                            callbacks=[earlystop, model_save_cb, epoch_times])"
      ],
      "execution_count": null,
      "outputs": [
        {
          "output_type": "stream",
          "text": [
            "Epoch 1/30\n",
            "1364/1363 [==============================] - ETA: 0s - loss: 7.3719 ;validation took 0.1656 minutes.\n",
            "\n",
            "Epoch 00001: saving model to /content/drive/My Drive/Colab Notebooks/OCR on IAM/data/two-weights-epoch01-val_loss3.449.h5\n",
            " ;epoch 1 took 7.2078 minutes.\n",
            "1364/1363 [==============================] - 415s 304ms/step - loss: 7.3719 - val_loss: 3.4487\n",
            "Epoch 2/30\n",
            "1364/1363 [==============================] - ETA: 0s - loss: 2.2471 ;validation took 0.1339 minutes.\n",
            "\n",
            "Epoch 00002: saving model to /content/drive/My Drive/Colab Notebooks/OCR on IAM/data/two-weights-epoch02-val_loss2.158.h5\n",
            " ;epoch 2 took 6.8968 minutes.\n",
            "1364/1363 [==============================] - 414s 303ms/step - loss: 2.2471 - val_loss: 2.1582\n",
            "Epoch 3/30\n",
            "1364/1363 [==============================] - ETA: 0s - loss: 1.6207 ;validation took 0.1337 minutes.\n",
            "\n",
            "Epoch 00003: saving model to /content/drive/My Drive/Colab Notebooks/OCR on IAM/data/two-weights-epoch03-val_loss1.643.h5\n",
            " ;epoch 3 took 6.8964 minutes.\n",
            "1364/1363 [==============================] - 413s 303ms/step - loss: 1.6207 - val_loss: 1.6430\n",
            "Epoch 4/30\n",
            "1364/1363 [==============================] - ETA: 0s - loss: 1.3192 ;validation took 0.1323 minutes.\n",
            "\n",
            "Epoch 00004: saving model to /content/drive/My Drive/Colab Notebooks/OCR on IAM/data/two-weights-epoch04-val_loss1.405.h5\n",
            " ;epoch 4 took 6.8897 minutes.\n",
            "1364/1363 [==============================] - 413s 303ms/step - loss: 1.3192 - val_loss: 1.4053\n",
            "Epoch 5/30\n",
            "1364/1363 [==============================] - ETA: 0s - loss: 1.0948 ;validation took 0.1353 minutes.\n",
            "\n",
            "Epoch 00005: saving model to /content/drive/My Drive/Colab Notebooks/OCR on IAM/data/two-weights-epoch05-val_loss1.070.h5\n",
            " ;epoch 5 took 6.9132 minutes.\n",
            "1364/1363 [==============================] - 415s 304ms/step - loss: 1.0948 - val_loss: 1.0700\n",
            "Epoch 6/30\n",
            "1364/1363 [==============================] - ETA: 0s - loss: 0.9156 ;validation took 0.1322 minutes.\n",
            "\n",
            "Epoch 00006: saving model to /content/drive/My Drive/Colab Notebooks/OCR on IAM/data/two-weights-epoch06-val_loss1.222.h5\n",
            " ;epoch 6 took 6.8933 minutes.\n",
            "1364/1363 [==============================] - 413s 303ms/step - loss: 0.9156 - val_loss: 1.2221\n",
            "Epoch 7/30\n",
            "1364/1363 [==============================] - ETA: 0s - loss: 0.7822 ;validation took 0.1332 minutes.\n",
            "\n",
            "Epoch 00007: saving model to /content/drive/My Drive/Colab Notebooks/OCR on IAM/data/two-weights-epoch07-val_loss0.692.h5\n",
            " ;epoch 7 took 6.891 minutes.\n",
            "1364/1363 [==============================] - 413s 303ms/step - loss: 0.7822 - val_loss: 0.6921\n",
            "Epoch 8/30\n",
            "1364/1363 [==============================] - ETA: 0s - loss: 0.6488 ;validation took 0.1325 minutes.\n",
            "\n",
            "Epoch 00008: saving model to /content/drive/My Drive/Colab Notebooks/OCR on IAM/data/two-weights-epoch08-val_loss0.832.h5\n",
            " ;epoch 8 took 6.8755 minutes.\n",
            "1364/1363 [==============================] - 412s 302ms/step - loss: 0.6488 - val_loss: 0.8324\n",
            "Epoch 9/30\n",
            "1364/1363 [==============================] - ETA: 0s - loss: 0.5596 ;validation took 0.1338 minutes.\n",
            "\n",
            "Epoch 00009: saving model to /content/drive/My Drive/Colab Notebooks/OCR on IAM/data/two-weights-epoch09-val_loss1.825.h5\n",
            " ;epoch 9 took 6.8894 minutes.\n",
            "1364/1363 [==============================] - 413s 303ms/step - loss: 0.5596 - val_loss: 1.8247\n",
            "Epoch 10/30\n",
            "1364/1363 [==============================] - ETA: 0s - loss: 0.4838 ;validation took 0.1339 minutes.\n",
            "\n",
            "Epoch 00010: saving model to /content/drive/My Drive/Colab Notebooks/OCR on IAM/data/two-weights-epoch10-val_loss0.509.h5\n",
            " ;epoch 10 took 6.8808 minutes.\n",
            "1364/1363 [==============================] - 413s 302ms/step - loss: 0.4838 - val_loss: 0.5093\n",
            "Epoch 11/30\n",
            "1364/1363 [==============================] - ETA: 0s - loss: 0.4115 ;validation took 0.133 minutes.\n",
            "\n",
            "Epoch 00011: saving model to /content/drive/My Drive/Colab Notebooks/OCR on IAM/data/two-weights-epoch11-val_loss0.699.h5\n",
            " ;epoch 11 took 6.892 minutes.\n",
            "1364/1363 [==============================] - 413s 303ms/step - loss: 0.4115 - val_loss: 0.6988\n",
            "Epoch 12/30\n",
            "1364/1363 [==============================] - ETA: 0s - loss: 0.3598 ;validation took 0.1344 minutes.\n",
            "\n",
            "Epoch 00012: saving model to /content/drive/My Drive/Colab Notebooks/OCR on IAM/data/two-weights-epoch12-val_loss3.366.h5\n",
            " ;epoch 12 took 6.9025 minutes.\n",
            "1364/1363 [==============================] - 414s 303ms/step - loss: 0.3598 - val_loss: 3.3660\n",
            "Epoch 13/30\n",
            "1364/1363 [==============================] - ETA: 0s - loss: 0.3328 ;validation took 0.1343 minutes.\n",
            "\n",
            "Epoch 00013: saving model to /content/drive/My Drive/Colab Notebooks/OCR on IAM/data/two-weights-epoch13-val_loss0.430.h5\n",
            " ;epoch 13 took 6.9143 minutes.\n",
            "1364/1363 [==============================] - 415s 304ms/step - loss: 0.3328 - val_loss: 0.4303\n",
            "Epoch 14/30\n",
            "1364/1363 [==============================] - ETA: 0s - loss: 0.2973 ;validation took 0.133 minutes.\n",
            "\n",
            "Epoch 00014: saving model to /content/drive/My Drive/Colab Notebooks/OCR on IAM/data/two-weights-epoch14-val_loss0.562.h5\n",
            " ;epoch 14 took 6.9122 minutes.\n",
            "1364/1363 [==============================] - 414s 304ms/step - loss: 0.2973 - val_loss: 0.5624\n",
            "Epoch 15/30\n",
            "1364/1363 [==============================] - ETA: 0s - loss: 0.2623 ;validation took 0.1339 minutes.\n",
            "\n",
            "Epoch 00015: saving model to /content/drive/My Drive/Colab Notebooks/OCR on IAM/data/two-weights-epoch15-val_loss0.573.h5\n",
            " ;epoch 15 took 6.886 minutes.\n",
            "1364/1363 [==============================] - 413s 303ms/step - loss: 0.2623 - val_loss: 0.5728\n",
            "Epoch 16/30\n",
            "1364/1363 [==============================] - ETA: 0s - loss: 0.2458 ;validation took 0.1348 minutes.\n",
            "\n",
            "Epoch 00016: saving model to /content/drive/My Drive/Colab Notebooks/OCR on IAM/data/two-weights-epoch16-val_loss0.506.h5\n",
            " ;epoch 16 took 6.8921 minutes.\n",
            "1364/1363 [==============================] - 413s 303ms/step - loss: 0.2458 - val_loss: 0.5058\n",
            "Epoch 17/30\n",
            "1364/1363 [==============================] - ETA: 0s - loss: 0.2176 ;validation took 0.1336 minutes.\n",
            "\n",
            "Epoch 00017: saving model to /content/drive/My Drive/Colab Notebooks/OCR on IAM/data/two-weights-epoch17-val_loss0.418.h5\n",
            " ;epoch 17 took 6.8881 minutes.\n",
            "1364/1363 [==============================] - 413s 303ms/step - loss: 0.2176 - val_loss: 0.4177\n",
            "Epoch 18/30\n",
            "1364/1363 [==============================] - ETA: 0s - loss: 0.2186 ;validation took 0.1346 minutes.\n",
            "\n",
            "Epoch 00018: saving model to /content/drive/My Drive/Colab Notebooks/OCR on IAM/data/two-weights-epoch18-val_loss0.407.h5\n",
            " ;epoch 18 took 6.8995 minutes.\n",
            "1364/1363 [==============================] - 414s 303ms/step - loss: 0.2186 - val_loss: 0.4075\n",
            "Epoch 19/30\n",
            "1364/1363 [==============================] - ETA: 0s - loss: 0.1989 ;validation took 0.1345 minutes.\n",
            "\n",
            "Epoch 00019: saving model to /content/drive/My Drive/Colab Notebooks/OCR on IAM/data/two-weights-epoch19-val_loss0.380.h5\n",
            " ;epoch 19 took 6.909 minutes.\n",
            "1364/1363 [==============================] - 414s 304ms/step - loss: 0.1989 - val_loss: 0.3801\n",
            "Epoch 20/30\n",
            "1364/1363 [==============================] - ETA: 0s - loss: 0.1806 ;validation took 0.1332 minutes.\n",
            "\n",
            "Epoch 00020: saving model to /content/drive/My Drive/Colab Notebooks/OCR on IAM/data/two-weights-epoch20-val_loss0.491.h5\n",
            " ;epoch 20 took 6.8969 minutes.\n",
            "1364/1363 [==============================] - 414s 303ms/step - loss: 0.1806 - val_loss: 0.4906\n",
            "Epoch 21/30\n",
            "1364/1363 [==============================] - ETA: 0s - loss: 0.1880 ;validation took 0.1327 minutes.\n",
            "\n",
            "Epoch 00021: saving model to /content/drive/My Drive/Colab Notebooks/OCR on IAM/data/two-weights-epoch21-val_loss0.419.h5\n",
            " ;epoch 21 took 6.8972 minutes.\n",
            "1364/1363 [==============================] - 414s 303ms/step - loss: 0.1880 - val_loss: 0.4189\n",
            "Epoch 22/30\n",
            "1364/1363 [==============================] - ETA: 0s - loss: 0.1742 ;validation took 0.1335 minutes.\n",
            "\n",
            "Epoch 00022: saving model to /content/drive/My Drive/Colab Notebooks/OCR on IAM/data/two-weights-epoch22-val_loss0.309.h5\n",
            " ;epoch 22 took 6.8964 minutes.\n",
            "1364/1363 [==============================] - 413s 303ms/step - loss: 0.1742 - val_loss: 0.3087\n",
            "Epoch 23/30\n",
            "1364/1363 [==============================] - ETA: 0s - loss: 0.1587 ;validation took 0.1345 minutes.\n",
            "\n",
            "Epoch 00023: saving model to /content/drive/My Drive/Colab Notebooks/OCR on IAM/data/two-weights-epoch23-val_loss26.979.h5\n",
            " ;epoch 23 took 6.9151 minutes.\n",
            "1364/1363 [==============================] - 415s 304ms/step - loss: 0.1587 - val_loss: 26.9786\n",
            "Epoch 24/30\n",
            "1364/1363 [==============================] - ETA: 0s - loss: 0.1627 ;validation took 0.1337 minutes.\n",
            "\n",
            "Epoch 00024: saving model to /content/drive/My Drive/Colab Notebooks/OCR on IAM/data/two-weights-epoch24-val_loss0.242.h5\n",
            " ;epoch 24 took 6.9653 minutes.\n",
            "1364/1363 [==============================] - 418s 306ms/step - loss: 0.1627 - val_loss: 0.2417\n",
            "Epoch 25/30\n",
            "1364/1363 [==============================] - ETA: 0s - loss: 0.1415 ;validation took 0.1348 minutes.\n",
            "\n",
            "Epoch 00025: saving model to /content/drive/My Drive/Colab Notebooks/OCR on IAM/data/two-weights-epoch25-val_loss0.349.h5\n",
            " ;epoch 25 took 6.9589 minutes.\n",
            "1364/1363 [==============================] - 417s 306ms/step - loss: 0.1415 - val_loss: 0.3488\n",
            "Epoch 26/30\n",
            "1364/1363 [==============================] - ETA: 0s - loss: 0.1511 ;validation took 0.135 minutes.\n",
            "\n",
            "Epoch 00026: saving model to /content/drive/My Drive/Colab Notebooks/OCR on IAM/data/two-weights-epoch26-val_loss4.603.h5\n",
            " ;epoch 26 took 6.9743 minutes.\n",
            "1364/1363 [==============================] - 418s 307ms/step - loss: 0.1511 - val_loss: 4.6032\n",
            "Epoch 27/30\n",
            "1364/1363 [==============================] - ETA: 0s - loss: 0.1434 ;validation took 0.134 minutes.\n",
            "\n",
            "Epoch 00027: saving model to /content/drive/My Drive/Colab Notebooks/OCR on IAM/data/two-weights-epoch27-val_loss0.421.h5\n",
            " ;epoch 27 took 6.9606 minutes.\n",
            "1364/1363 [==============================] - 417s 306ms/step - loss: 0.1434 - val_loss: 0.4214\n",
            "Epoch 28/30\n",
            "1364/1363 [==============================] - ETA: 0s - loss: 0.1281 ;validation took 0.1358 minutes.\n",
            "\n",
            "Epoch 00028: saving model to /content/drive/My Drive/Colab Notebooks/OCR on IAM/data/two-weights-epoch28-val_loss0.300.h5\n",
            " ;epoch 28 took 6.9651 minutes.\n",
            "1364/1363 [==============================] - 418s 306ms/step - loss: 0.1281 - val_loss: 0.2998\n"
          ],
          "name": "stdout"
        }
      ]
    },
    {
      "cell_type": "code",
      "metadata": {
        "id": "g1lgH_FKVEsv"
      },
      "source": [
        "model.save(filepath='/content/drive/My Drive/Colab Notebooks/OCR on IAM/data/two-model-after-3rd-session.h5', overwrite=False, include_optimizer=True)"
      ],
      "execution_count": null,
      "outputs": []
    },
    {
      "cell_type": "markdown",
      "metadata": {
        "id": "EycN6u09NzVx"
      },
      "source": [
        "## plotting model statistics"
      ]
    },
    {
      "cell_type": "code",
      "metadata": {
        "id": "aSuyheptN1nS",
        "colab": {
          "base_uri": "https://localhost:8080/",
          "height": 70
        },
        "outputId": "4bd46308-42f9-4537-f19f-41db94325f47"
      },
      "source": [
        "import seaborn as sns"
      ],
      "execution_count": null,
      "outputs": [
        {
          "output_type": "stream",
          "text": [
            "/usr/local/lib/python3.6/dist-packages/statsmodels/tools/_testing.py:19: FutureWarning: pandas.util.testing is deprecated. Use the functions in the public API at pandas.testing instead.\n",
            "  import pandas.util.testing as tm\n"
          ],
          "name": "stderr"
        }
      ]
    },
    {
      "cell_type": "code",
      "metadata": {
        "id": "EJOuTJN_W0br",
        "colab": {
          "base_uri": "https://localhost:8080/",
          "height": 464
        },
        "outputId": "184f0917-99f6-47ad-f697-99ae1cf8f429"
      },
      "source": [
        "sns.set(rc={'figure.figsize':(14,7)})\n",
        "plt.plot(history_model_3.history['loss'])\n",
        "plt.plot(history_model_3.history['val_loss'])\n",
        "plt.title('model loss')\n",
        "plt.ylabel('loss')\n",
        "plt.xlabel('epoch')\n",
        "plt.legend(['train', 'val'], loc='best')\n",
        "plt.show()"
      ],
      "execution_count": null,
      "outputs": [
        {
          "output_type": "display_data",
          "data": {
            "image/png": "[encoded data removed]",
            "text/plain": [
              "<Figure size 1008x504 with 1 Axes>"
            ]
          },
          "metadata": {
            "tags": []
          }
        }
      ]
    },
    {
      "cell_type": "code",
      "metadata": {
        "id": "i_oypp877bqx",
        "colab": {
          "base_uri": "https://localhost:8080/",
          "height": 34
        },
        "outputId": "2f4eec7d-5de0-4d41-9e91-eaf86de72926"
      },
      "source": [
        "history_model_3.history.keys()"
      ],
      "execution_count": null,
      "outputs": [
        {
          "output_type": "execute_result",
          "data": {
            "text/plain": [
              "dict_keys(['loss', 'val_loss'])"
            ]
          },
          "metadata": {
            "tags": []
          },
          "execution_count": 36
        }
      ]
    },
    {
      "cell_type": "code",
      "metadata": {
        "id": "C-ll8y2i7Dux"
      },
      "source": [
        "import pandas as pd"
      ],
      "execution_count": null,
      "outputs": []
    },
    {
      "cell_type": "code",
      "metadata": {
        "id": "Mt8HYO4N78U8",
        "colab": {
          "base_uri": "https://localhost:8080/",
          "height": 195
        },
        "outputId": "205d066f-c719-4996-fd07-9b1abef00b84"
      },
      "source": [
        "loss_df = pd.DataFrame(data=history_model_3.history)\n",
        "loss_df.head()"
      ],
      "execution_count": null,
      "outputs": [
        {
          "output_type": "execute_result",
          "data": {
            "text/html": [
              "<div>\n",
              "<style scoped>\n",
              "    .dataframe tbody tr th:only-of-type {\n",
              "        vertical-align: middle;\n",
              "    }\n",
              "\n",
              "    .dataframe tbody tr th {\n",
              "        vertical-align: top;\n",
              "    }\n",
              "\n",
              "    .dataframe thead th {\n",
              "        text-align: right;\n",
              "    }\n",
              "</style>\n",
              "<table border=\"1\" class=\"dataframe\">\n",
              "  <thead>\n",
              "    <tr style=\"text-align: right;\">\n",
              "      <th></th>\n",
              "      <th>loss</th>\n",
              "      <th>val_loss</th>\n",
              "    </tr>\n",
              "  </thead>\n",
              "  <tbody>\n",
              "    <tr>\n",
              "      <th>0</th>\n",
              "      <td>7.371885</td>\n",
              "      <td>3.448700</td>\n",
              "    </tr>\n",
              "    <tr>\n",
              "      <th>1</th>\n",
              "      <td>2.247088</td>\n",
              "      <td>2.158155</td>\n",
              "    </tr>\n",
              "    <tr>\n",
              "      <th>2</th>\n",
              "      <td>1.620672</td>\n",
              "      <td>1.642994</td>\n",
              "    </tr>\n",
              "    <tr>\n",
              "      <th>3</th>\n",
              "      <td>1.319233</td>\n",
              "      <td>1.405329</td>\n",
              "    </tr>\n",
              "    <tr>\n",
              "      <th>4</th>\n",
              "      <td>1.094819</td>\n",
              "      <td>1.069993</td>\n",
              "    </tr>\n",
              "  </tbody>\n",
              "</table>\n",
              "</div>"
            ],
            "text/plain": [
              "       loss  val_loss\n",
              "0  7.371885  3.448700\n",
              "1  2.247088  2.158155\n",
              "2  1.620672  1.642994\n",
              "3  1.319233  1.405329\n",
              "4  1.094819  1.069993"
            ]
          },
          "metadata": {
            "tags": []
          },
          "execution_count": 47
        }
      ]
    },
    {
      "cell_type": "code",
      "metadata": {
        "id": "AdDp-8jG8Gd7",
        "colab": {
          "base_uri": "https://localhost:8080/",
          "height": 195
        },
        "outputId": "8b73c00c-6b91-4ad8-828d-32fcafab7f96"
      },
      "source": [
        "loss_df.sort_values(by=['loss', 'val_loss']).head()"
      ],
      "execution_count": null,
      "outputs": [
        {
          "output_type": "execute_result",
          "data": {
            "text/html": [
              "<div>\n",
              "<style scoped>\n",
              "    .dataframe tbody tr th:only-of-type {\n",
              "        vertical-align: middle;\n",
              "    }\n",
              "\n",
              "    .dataframe tbody tr th {\n",
              "        vertical-align: top;\n",
              "    }\n",
              "\n",
              "    .dataframe thead th {\n",
              "        text-align: right;\n",
              "    }\n",
              "</style>\n",
              "<table border=\"1\" class=\"dataframe\">\n",
              "  <thead>\n",
              "    <tr style=\"text-align: right;\">\n",
              "      <th></th>\n",
              "      <th>loss</th>\n",
              "      <th>val_loss</th>\n",
              "    </tr>\n",
              "  </thead>\n",
              "  <tbody>\n",
              "    <tr>\n",
              "      <th>27</th>\n",
              "      <td>0.128097</td>\n",
              "      <td>0.299811</td>\n",
              "    </tr>\n",
              "    <tr>\n",
              "      <th>24</th>\n",
              "      <td>0.141549</td>\n",
              "      <td>0.348824</td>\n",
              "    </tr>\n",
              "    <tr>\n",
              "      <th>26</th>\n",
              "      <td>0.143362</td>\n",
              "      <td>0.421445</td>\n",
              "    </tr>\n",
              "    <tr>\n",
              "      <th>25</th>\n",
              "      <td>0.151138</td>\n",
              "      <td>4.603170</td>\n",
              "    </tr>\n",
              "    <tr>\n",
              "      <th>22</th>\n",
              "      <td>0.158717</td>\n",
              "      <td>26.978632</td>\n",
              "    </tr>\n",
              "  </tbody>\n",
              "</table>\n",
              "</div>"
            ],
            "text/plain": [
              "        loss   val_loss\n",
              "27  0.128097   0.299811\n",
              "24  0.141549   0.348824\n",
              "26  0.143362   0.421445\n",
              "25  0.151138   4.603170\n",
              "22  0.158717  26.978632"
            ]
          },
          "metadata": {
            "tags": []
          },
          "execution_count": 48
        }
      ]
    },
    {
      "cell_type": "markdown",
      "metadata": {
        "id": "uObAhBrd8hwI"
      },
      "source": [
        "so, let's use the weights of 27th epoch."
      ]
    },
    {
      "cell_type": "markdown",
      "metadata": {
        "id": "Ey46Cdq_SpJh"
      },
      "source": [
        "## predictions on test set and calculating WER & CER"
      ]
    },
    {
      "cell_type": "markdown",
      "metadata": {
        "id": "rebDDZj7YeXy"
      },
      "source": [
        "make predictions using weights from various checkpoints, since that's the epoch with lowest train and validation error."
      ]
    },
    {
      "cell_type": "code",
      "metadata": {
        "id": "ajetvs96cSEk"
      },
      "source": [
        "sns.reset_orig()\n",
        "plt.figure(figsize=(3, 6))\n",
        "i = 1\n",
        "print(test_files[i][1])\n",
        "temp_processed_image = preprocess(path=test_files[i][0], img_w=128, img_h=64)\n",
        "plt.imshow(temp_processed_image.T)"
      ],
      "execution_count": null,
      "outputs": []
    },
    {
      "cell_type": "code",
      "metadata": {
        "id": "bmlTvqlec6lg"
      },
      "source": [
        "test_images_processed = []\n",
        "original_test_texts = []\n",
        "for _, (test_image_path, original_test_text) in enumerate(test_files):\n",
        "     temp_processed_image = preprocess(path=test_image_path, img_w=128, img_h=64)\n",
        "     test_images_processed.append(temp_processed_image.T)\n",
        "     original_test_texts.append(original_test_text)"
      ],
      "execution_count": null,
      "outputs": []
    },
    {
      "cell_type": "code",
      "metadata": {
        "id": "myzKjOfxfWT9",
        "colab": {
          "base_uri": "https://localhost:8080/",
          "height": 67
        },
        "outputId": "3d92f50b-049b-43a1-e436-9427b01bb905"
      },
      "source": [
        "print(len(test_files))\n",
        "print(len(test_images_processed))\n",
        "print(len(original_test_texts))"
      ],
      "execution_count": null,
      "outputs": [
        {
          "output_type": "stream",
          "text": [
            "4316\n",
            "4316\n",
            "4316\n"
          ],
          "name": "stdout"
        }
      ]
    },
    {
      "cell_type": "code",
      "metadata": {
        "id": "kBy4cTXoei-z",
        "colab": {
          "base_uri": "https://localhost:8080/",
          "height": 34
        },
        "outputId": "c99eb4b2-ebfb-43f9-98ad-8cf6b33ce11d"
      },
      "source": [
        "test_images_processed = np.array(test_images_processed)\n",
        "test_images_processed.shape"
      ],
      "execution_count": null,
      "outputs": [
        {
          "output_type": "execute_result",
          "data": {
            "text/plain": [
              "(4316, 128, 64)"
            ]
          },
          "metadata": {
            "tags": []
          },
          "execution_count": 16
        }
      ]
    },
    {
      "cell_type": "code",
      "metadata": {
        "id": "p5n3s_z-f00S",
        "colab": {
          "base_uri": "https://localhost:8080/",
          "height": 34
        },
        "outputId": "1cda6cf2-d275-425b-f5ac-eb0323397e3c"
      },
      "source": [
        "test_images_processed = test_images_processed.reshape(4316, 128, 64, 1)\n",
        "test_images_processed.shape"
      ],
      "execution_count": null,
      "outputs": [
        {
          "output_type": "execute_result",
          "data": {
            "text/plain": [
              "(4316, 128, 64, 1)"
            ]
          },
          "metadata": {
            "tags": []
          },
          "execution_count": 17
        }
      ]
    },
    {
      "cell_type": "markdown",
      "metadata": {
        "id": "ReGR1lE3kvp0"
      },
      "source": [
        "## with weights of final epoch (the one with the least loss on train data)"
      ]
    },
    {
      "cell_type": "code",
      "metadata": {
        "id": "nGNSsMJ3YdiK",
        "colab": {
          "base_uri": "https://localhost:8080/",
          "height": 1000
        },
        "outputId": "ded6e7fb-4ed7-46e3-c88c-9b21ad6659c8"
      },
      "source": [
        "iam_model_pred = None\n",
        "iam_model_pred = Model(inputs=input_data, outputs=iam_outputs)\n",
        "iam_model_pred.summary()"
      ],
      "execution_count": null,
      "outputs": [
        {
          "output_type": "stream",
          "text": [
            "Model: \"model_2\"\n",
            "_________________________________________________________________\n",
            "Layer (type)                 Output Shape              Param #   \n",
            "=================================================================\n",
            "the_input (InputLayer)       [(None, 128, 64, 1)]      0         \n",
            "_________________________________________________________________\n",
            "conv1 (Conv2D)               (None, 128, 64, 64)       640       \n",
            "_________________________________________________________________\n",
            "batch_normalization (BatchNo (None, 128, 64, 64)       256       \n",
            "_________________________________________________________________\n",
            "activation (Activation)      (None, 128, 64, 64)       0         \n",
            "_________________________________________________________________\n",
            "max1 (MaxPooling2D)          (None, 64, 32, 64)        0         \n",
            "_________________________________________________________________\n",
            "conv2 (Conv2D)               (None, 64, 32, 128)       73856     \n",
            "_________________________________________________________________\n",
            "batch_normalization_1 (Batch (None, 64, 32, 128)       512       \n",
            "_________________________________________________________________\n",
            "activation_1 (Activation)    (None, 64, 32, 128)       0         \n",
            "_________________________________________________________________\n",
            "max2 (MaxPooling2D)          (None, 32, 16, 128)       0         \n",
            "_________________________________________________________________\n",
            "conv3 (Conv2D)               (None, 32, 16, 256)       295168    \n",
            "_________________________________________________________________\n",
            "batch_normalization_2 (Batch (None, 32, 16, 256)       1024      \n",
            "_________________________________________________________________\n",
            "activation_2 (Activation)    (None, 32, 16, 256)       0         \n",
            "_________________________________________________________________\n",
            "conv4 (Conv2D)               (None, 32, 16, 256)       590080    \n",
            "_________________________________________________________________\n",
            "batch_normalization_3 (Batch (None, 32, 16, 256)       1024      \n",
            "_________________________________________________________________\n",
            "activation_3 (Activation)    (None, 32, 16, 256)       0         \n",
            "_________________________________________________________________\n",
            "max3 (MaxPooling2D)          (None, 32, 8, 256)        0         \n",
            "_________________________________________________________________\n",
            "conv5 (Conv2D)               (None, 32, 8, 512)        1180160   \n",
            "_________________________________________________________________\n",
            "batch_normalization_4 (Batch (None, 32, 8, 512)        2048      \n",
            "_________________________________________________________________\n",
            "activation_4 (Activation)    (None, 32, 8, 512)        0         \n",
            "_________________________________________________________________\n",
            "conv6 (Conv2D)               (None, 32, 8, 512)        2359808   \n",
            "_________________________________________________________________\n",
            "batch_normalization_5 (Batch (None, 32, 8, 512)        2048      \n",
            "_________________________________________________________________\n",
            "activation_5 (Activation)    (None, 32, 8, 512)        0         \n",
            "_________________________________________________________________\n",
            "max4 (MaxPooling2D)          (None, 32, 4, 512)        0         \n",
            "_________________________________________________________________\n",
            "con7 (Conv2D)                (None, 32, 4, 512)        1049088   \n",
            "_________________________________________________________________\n",
            "batch_normalization_6 (Batch (None, 32, 4, 512)        2048      \n",
            "_________________________________________________________________\n",
            "activation_6 (Activation)    (None, 32, 4, 512)        0         \n",
            "_________________________________________________________________\n",
            "reshape (Reshape)            (None, 32, 2048)          0         \n",
            "_________________________________________________________________\n",
            "dense1 (Dense)               (None, 32, 64)            131136    \n",
            "_________________________________________________________________\n",
            "bidirectional (Bidirectional (None, 32, 512)           657408    \n",
            "_________________________________________________________________\n",
            "bidirectional_1 (Bidirection (None, 32, 512)           1574912   \n",
            "_________________________________________________________________\n",
            "batch_normalization_7 (Batch (None, 32, 512)           2048      \n",
            "_________________________________________________________________\n",
            "dense2 (Dense)               (None, 32, 80)            41040     \n",
            "_________________________________________________________________\n",
            "softmax (Activation)         (None, 32, 80)            0         \n",
            "=================================================================\n",
            "Total params: 7,964,304\n",
            "Trainable params: 7,958,800\n",
            "Non-trainable params: 5,504\n",
            "_________________________________________________________________\n"
          ],
          "name": "stdout"
        }
      ]
    },
    {
      "cell_type": "code",
      "metadata": {
        "id": "sm3TPzRXasYp"
      },
      "source": [
        "iam_model_pred.load_weights(filepath='/content/drive/My Drive/Colab Notebooks/OCR on IAM/data/two-model-after-3rd-session.h5')"
      ],
      "execution_count": null,
      "outputs": []
    },
    {
      "cell_type": "code",
      "metadata": {
        "id": "pBJ9W1ysa5PE",
        "colab": {
          "base_uri": "https://localhost:8080/",
          "height": 34
        },
        "outputId": "6169a9e5-ffca-4e58-f374-b68ddabafa6d"
      },
      "source": [
        "test_predictions_encoded = iam_model_pred.predict(x=test_images_processed)\n",
        "test_predictions_encoded.shape"
      ],
      "execution_count": null,
      "outputs": [
        {
          "output_type": "execute_result",
          "data": {
            "text/plain": [
              "(4316, 32, 80)"
            ]
          },
          "metadata": {
            "tags": []
          },
          "execution_count": 80
        }
      ]
    },
    {
      "cell_type": "code",
      "metadata": {
        "id": "ojaGQiMYgb1M",
        "colab": {
          "base_uri": "https://localhost:8080/",
          "height": 34
        },
        "outputId": "069b93d4-f0be-4fed-d420-259977ab00f9"
      },
      "source": [
        "# use CTC decoder to decode to text\n",
        "test_predictions_decoded = tf_keras_backend.get_value(tf_keras_backend.ctc_decode(test_predictions_encoded,\n",
        "                                                                                  input_length = np.ones(test_predictions_encoded.shape[0])*test_predictions_encoded.shape[1],\n",
        "                                                                                  greedy=True)[0][0])\n",
        "test_predictions_decoded.shape"
      ],
      "execution_count": null,
      "outputs": [
        {
          "output_type": "execute_result",
          "data": {
            "text/plain": [
              "(4316, 14)"
            ]
          },
          "metadata": {
            "tags": []
          },
          "execution_count": 81
        }
      ]
    },
    {
      "cell_type": "code",
      "metadata": {
        "id": "7u0TO-Y3gvtA"
      },
      "source": [
        "def numbered_array_to_text(numbered_array):\n",
        "    numbered_array = numbered_array[numbered_array != -1]\n",
        "    return \"\".join(letters[i] for i in numbered_array)"
      ],
      "execution_count": null,
      "outputs": []
    },
    {
      "cell_type": "code",
      "metadata": {
        "id": "ttNBrifAiL-k",
        "colab": {
          "base_uri": "https://localhost:8080/",
          "height": 521
        },
        "outputId": "f96ebf30-08aa-470a-b599-8b6e7ac8dba2"
      },
      "source": [
        "for i in range(10):\n",
        "    print(\"original_text = \", original_test_texts[i])\n",
        "    print(\"predicted text = \", numbered_array_to_text(test_predictions_decoded[i]))\n",
        "    print()"
      ],
      "execution_count": null,
      "outputs": [
        {
          "output_type": "stream",
          "text": [
            "original_text =  certain\n",
            "predicted text =  ;certain\n",
            "\n",
            "original_text =  biographies\n",
            "predicted text =  ?biographies\n",
            "\n",
            "original_text =  all\n",
            "predicted text =  !&all\n",
            "\n",
            "original_text =  It\n",
            "predicted text =  It\n",
            "\n",
            "original_text =  I\n",
            "predicted text =  ?I\n",
            "\n",
            "original_text =  show\n",
            "predicted text =  #show\n",
            "\n",
            "original_text =  Kings\n",
            "predicted text =  XKings\n",
            "\n",
            "original_text =  A\n",
            "predicted text =  A\n",
            "\n",
            "original_text =  the\n",
            "predicted text =  7the\n",
            "\n",
            "original_text =  and\n",
            "predicted text =  !3and\n",
            "\n"
          ],
          "name": "stdout"
        }
      ]
    },
    {
      "cell_type": "markdown",
      "metadata": {
        "id": "2QYbs62Uk2sP"
      },
      "source": [
        "### with the weight of epoch 24 (the one with the least loss on validation data)"
      ]
    },
    {
      "cell_type": "code",
      "metadata": {
        "id": "EEh3Z1zKlCoe",
        "colab": {
          "base_uri": "https://localhost:8080/",
          "height": 1000
        },
        "outputId": "48676325-b99a-49aa-c250-5efec63af1bc"
      },
      "source": [
        "iam_model_pred = None\n",
        "iam_model_pred = Model(inputs=input_data, outputs=iam_outputs)\n",
        "iam_model_pred.summary()"
      ],
      "execution_count": null,
      "outputs": [
        {
          "output_type": "stream",
          "text": [
            "Model: \"model_1\"\n",
            "_________________________________________________________________\n",
            "Layer (type)                 Output Shape              Param #   \n",
            "=================================================================\n",
            "the_input (InputLayer)       [(None, 128, 64, 1)]      0         \n",
            "_________________________________________________________________\n",
            "conv1 (Conv2D)               (None, 128, 64, 64)       640       \n",
            "_________________________________________________________________\n",
            "batch_normalization (BatchNo (None, 128, 64, 64)       256       \n",
            "_________________________________________________________________\n",
            "activation (Activation)      (None, 128, 64, 64)       0         \n",
            "_________________________________________________________________\n",
            "max1 (MaxPooling2D)          (None, 64, 32, 64)        0         \n",
            "_________________________________________________________________\n",
            "conv2 (Conv2D)               (None, 64, 32, 128)       73856     \n",
            "_________________________________________________________________\n",
            "batch_normalization_1 (Batch (None, 64, 32, 128)       512       \n",
            "_________________________________________________________________\n",
            "activation_1 (Activation)    (None, 64, 32, 128)       0         \n",
            "_________________________________________________________________\n",
            "max2 (MaxPooling2D)          (None, 32, 16, 128)       0         \n",
            "_________________________________________________________________\n",
            "conv3 (Conv2D)               (None, 32, 16, 256)       295168    \n",
            "_________________________________________________________________\n",
            "batch_normalization_2 (Batch (None, 32, 16, 256)       1024      \n",
            "_________________________________________________________________\n",
            "activation_2 (Activation)    (None, 32, 16, 256)       0         \n",
            "_________________________________________________________________\n",
            "conv4 (Conv2D)               (None, 32, 16, 256)       590080    \n",
            "_________________________________________________________________\n",
            "batch_normalization_3 (Batch (None, 32, 16, 256)       1024      \n",
            "_________________________________________________________________\n",
            "activation_3 (Activation)    (None, 32, 16, 256)       0         \n",
            "_________________________________________________________________\n",
            "max3 (MaxPooling2D)          (None, 32, 8, 256)        0         \n",
            "_________________________________________________________________\n",
            "conv5 (Conv2D)               (None, 32, 8, 512)        1180160   \n",
            "_________________________________________________________________\n",
            "batch_normalization_4 (Batch (None, 32, 8, 512)        2048      \n",
            "_________________________________________________________________\n",
            "activation_4 (Activation)    (None, 32, 8, 512)        0         \n",
            "_________________________________________________________________\n",
            "conv6 (Conv2D)               (None, 32, 8, 512)        2359808   \n",
            "_________________________________________________________________\n",
            "batch_normalization_5 (Batch (None, 32, 8, 512)        2048      \n",
            "_________________________________________________________________\n",
            "activation_5 (Activation)    (None, 32, 8, 512)        0         \n",
            "_________________________________________________________________\n",
            "max4 (MaxPooling2D)          (None, 32, 4, 512)        0         \n",
            "_________________________________________________________________\n",
            "con7 (Conv2D)                (None, 32, 4, 512)        1049088   \n",
            "_________________________________________________________________\n",
            "batch_normalization_6 (Batch (None, 32, 4, 512)        2048      \n",
            "_________________________________________________________________\n",
            "activation_6 (Activation)    (None, 32, 4, 512)        0         \n",
            "_________________________________________________________________\n",
            "reshape (Reshape)            (None, 32, 2048)          0         \n",
            "_________________________________________________________________\n",
            "dense1 (Dense)               (None, 32, 64)            131136    \n",
            "_________________________________________________________________\n",
            "bidirectional (Bidirectional (None, 32, 512)           657408    \n",
            "_________________________________________________________________\n",
            "bidirectional_1 (Bidirection (None, 32, 512)           1574912   \n",
            "_________________________________________________________________\n",
            "batch_normalization_7 (Batch (None, 32, 512)           2048      \n",
            "_________________________________________________________________\n",
            "dense2 (Dense)               (None, 32, 80)            41040     \n",
            "_________________________________________________________________\n",
            "softmax (Activation)         (None, 32, 80)            0         \n",
            "=================================================================\n",
            "Total params: 7,964,304\n",
            "Trainable params: 7,958,800\n",
            "Non-trainable params: 5,504\n",
            "_________________________________________________________________\n"
          ],
          "name": "stdout"
        }
      ]
    },
    {
      "cell_type": "code",
      "metadata": {
        "id": "5pOtYeElk8kz"
      },
      "source": [
        "iam_model_pred.load_weights(filepath='/content/drive/My Drive/Colab Notebooks/OCR on IAM/data/two-weights-epoch24-val_loss0.242.h5')"
      ],
      "execution_count": null,
      "outputs": []
    },
    {
      "cell_type": "code",
      "metadata": {
        "id": "3lCXMAgElHtQ",
        "colab": {
          "base_uri": "https://localhost:8080/",
          "height": 104
        },
        "outputId": "7fef70da-ff74-4a3f-9b91-b95239e93b82"
      },
      "source": [
        "test_predictions_encoded = iam_model_pred.predict(x=test_images_processed)\n",
        "# use CTC decoder to decode to text\n",
        "test_predictions_decoded = tf_keras_backend.get_value(tf_keras_backend.ctc_decode(test_predictions_encoded,\n",
        "                                                                                  input_length = np.ones(test_predictions_encoded.shape[0])*test_predictions_encoded.shape[1],\n",
        "                                                                                  greedy=True)[0][0])\n",
        "test_predictions_decoded.shape"
      ],
      "execution_count": null,
      "outputs": [
        {
          "output_type": "stream",
          "text": [
            "WARNING:tensorflow:From /usr/local/lib/python3.6/dist-packages/tensorflow/python/keras/backend.py:5871: sparse_to_dense (from tensorflow.python.ops.sparse_ops) is deprecated and will be removed in a future version.\n",
            "Instructions for updating:\n",
            "Create a `tf.sparse.SparseTensor` and use `tf.sparse.to_dense` instead.\n"
          ],
          "name": "stdout"
        },
        {
          "output_type": "execute_result",
          "data": {
            "text/plain": [
              "(4316, 14)"
            ]
          },
          "metadata": {
            "tags": []
          },
          "execution_count": 23
        }
      ]
    }
  ]
}